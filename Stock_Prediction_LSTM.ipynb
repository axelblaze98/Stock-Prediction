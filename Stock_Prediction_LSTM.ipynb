{
  "nbformat": 4,
  "nbformat_minor": 0,
  "metadata": {
    "colab": {
      "name": "Stock_Prediction_LSTM.ipynb",
      "provenance": [],
      "collapsed_sections": []
    },
    "kernelspec": {
      "name": "python3",
      "display_name": "Python 3"
    },
    "language_info": {
      "codemirror_mode": {
        "name": "ipython",
        "version": 3
      },
      "file_extension": ".py",
      "mimetype": "text/x-python",
      "name": "python",
      "nbconvert_exporter": "python",
      "pygments_lexer": "ipython3",
      "version": "3.7.4"
    },
    "accelerator": "TPU"
  },
  "cells": [
    {
      "cell_type": "code",
      "metadata": {
        "colab_type": "code",
        "id": "gsIy_lQO0IZt",
        "colab": {}
      },
      "source": [
        "import pandas as pd\n",
        "import numpy as np\n",
        "%matplotlib inline\n",
        "import matplotlib.pyplot as plt\n",
        "import matplotlib\n",
        "from sklearn.preprocessing import MinMaxScaler\n",
        "from keras.layers import LSTM,Dense,Dropout\n",
        "from sklearn.model_selection import TimeSeriesSplit\n",
        "from sklearn.metrics import mean_squared_error, r2_score\n",
        "import matplotlib.dates as mdates\n",
        "from sklearn import linear_model"
      ],
      "execution_count": 0,
      "outputs": []
    },
    {
      "cell_type": "code",
      "metadata": {
        "colab_type": "code",
        "id": "7twtVwjN0OxT",
        "outputId": "4174895d-fd9f-43d3-98f4-0b93013b6460",
        "colab": {
          "resources": {
            "http://localhost:8080/nbextensions/google.colab/files.js": {
              "data": "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",
              "ok": true,
              "headers": [
                [
                  "content-type",
                  "application/javascript"
                ]
              ],
              "status": 200,
              "status_text": ""
            }
          },
          "base_uri": "https://localhost:8080/",
          "height": 74
        }
      },
      "source": [
        "from google.colab import files\n",
        "uploaded = files.upload()"
      ],
      "execution_count": 72,
      "outputs": [
        {
          "output_type": "display_data",
          "data": {
            "text/html": [
              "\n",
              "     <input type=\"file\" id=\"files-76b14918-3703-46c9-96b0-d908b28cd068\" name=\"files[]\" multiple disabled />\n",
              "     <output id=\"result-76b14918-3703-46c9-96b0-d908b28cd068\">\n",
              "      Upload widget is only available when the cell has been executed in the\n",
              "      current browser session. Please rerun this cell to enable.\n",
              "      </output>\n",
              "      <script src=\"/nbextensions/google.colab/files.js\"></script> "
            ],
            "text/plain": [
              "<IPython.core.display.HTML object>"
            ]
          },
          "metadata": {
            "tags": []
          }
        },
        {
          "output_type": "stream",
          "text": [
            "Saving MSFT.csv to MSFT (2).csv\n"
          ],
          "name": "stdout"
        }
      ]
    },
    {
      "cell_type": "code",
      "metadata": {
        "colab_type": "code",
        "id": "C4cOxkNc02pa",
        "colab": {}
      },
      "source": [
        "df_final = pd.read_csv(\"MSFT.csv\",na_values=['null'],index_col='Date',parse_dates=True,infer_datetime_format=True)"
      ],
      "execution_count": 0,
      "outputs": []
    },
    {
      "cell_type": "code",
      "metadata": {
        "colab_type": "code",
        "id": "u3zG1wxr0-JY",
        "outputId": "1408a497-6808-4a74-cd35-5aeb214c323b",
        "colab": {
          "base_uri": "https://localhost:8080/",
          "height": 235
        }
      },
      "source": [
        "df_final.head()"
      ],
      "execution_count": 74,
      "outputs": [
        {
          "output_type": "execute_result",
          "data": {
            "text/html": [
              "<div>\n",
              "<style scoped>\n",
              "    .dataframe tbody tr th:only-of-type {\n",
              "        vertical-align: middle;\n",
              "    }\n",
              "\n",
              "    .dataframe tbody tr th {\n",
              "        vertical-align: top;\n",
              "    }\n",
              "\n",
              "    .dataframe thead th {\n",
              "        text-align: right;\n",
              "    }\n",
              "</style>\n",
              "<table border=\"1\" class=\"dataframe\">\n",
              "  <thead>\n",
              "    <tr style=\"text-align: right;\">\n",
              "      <th></th>\n",
              "      <th>Open</th>\n",
              "      <th>High</th>\n",
              "      <th>Low</th>\n",
              "      <th>Close</th>\n",
              "      <th>Adj Close</th>\n",
              "      <th>Volume</th>\n",
              "    </tr>\n",
              "    <tr>\n",
              "      <th>Date</th>\n",
              "      <th></th>\n",
              "      <th></th>\n",
              "      <th></th>\n",
              "      <th></th>\n",
              "      <th></th>\n",
              "      <th></th>\n",
              "    </tr>\n",
              "  </thead>\n",
              "  <tbody>\n",
              "    <tr>\n",
              "      <th>1986-03-13</th>\n",
              "      <td>0.088542</td>\n",
              "      <td>0.101563</td>\n",
              "      <td>0.088542</td>\n",
              "      <td>0.097222</td>\n",
              "      <td>0.062549</td>\n",
              "      <td>1031788800</td>\n",
              "    </tr>\n",
              "    <tr>\n",
              "      <th>1986-03-14</th>\n",
              "      <td>0.097222</td>\n",
              "      <td>0.102431</td>\n",
              "      <td>0.097222</td>\n",
              "      <td>0.100694</td>\n",
              "      <td>0.064783</td>\n",
              "      <td>308160000</td>\n",
              "    </tr>\n",
              "    <tr>\n",
              "      <th>1986-03-17</th>\n",
              "      <td>0.100694</td>\n",
              "      <td>0.103299</td>\n",
              "      <td>0.100694</td>\n",
              "      <td>0.102431</td>\n",
              "      <td>0.065899</td>\n",
              "      <td>133171200</td>\n",
              "    </tr>\n",
              "    <tr>\n",
              "      <th>1986-03-18</th>\n",
              "      <td>0.102431</td>\n",
              "      <td>0.103299</td>\n",
              "      <td>0.098958</td>\n",
              "      <td>0.099826</td>\n",
              "      <td>0.064224</td>\n",
              "      <td>67766400</td>\n",
              "    </tr>\n",
              "    <tr>\n",
              "      <th>1986-03-19</th>\n",
              "      <td>0.099826</td>\n",
              "      <td>0.100694</td>\n",
              "      <td>0.097222</td>\n",
              "      <td>0.098090</td>\n",
              "      <td>0.063107</td>\n",
              "      <td>47894400</td>\n",
              "    </tr>\n",
              "  </tbody>\n",
              "</table>\n",
              "</div>"
            ],
            "text/plain": [
              "                Open      High       Low     Close  Adj Close      Volume\n",
              "Date                                                                     \n",
              "1986-03-13  0.088542  0.101563  0.088542  0.097222   0.062549  1031788800\n",
              "1986-03-14  0.097222  0.102431  0.097222  0.100694   0.064783   308160000\n",
              "1986-03-17  0.100694  0.103299  0.100694  0.102431   0.065899   133171200\n",
              "1986-03-18  0.102431  0.103299  0.098958  0.099826   0.064224    67766400\n",
              "1986-03-19  0.099826  0.100694  0.097222  0.098090   0.063107    47894400"
            ]
          },
          "metadata": {
            "tags": []
          },
          "execution_count": 74
        }
      ]
    },
    {
      "cell_type": "code",
      "metadata": {
        "colab_type": "code",
        "id": "ZlHZfkw01BKn",
        "outputId": "59559b8b-1d86-4f63-c5e7-81418870923d",
        "colab": {
          "base_uri": "https://localhost:8080/",
          "height": 34
        }
      },
      "source": [
        "df_final.shape"
      ],
      "execution_count": 75,
      "outputs": [
        {
          "output_type": "execute_result",
          "data": {
            "text/plain": [
              "(8508, 6)"
            ]
          },
          "metadata": {
            "tags": []
          },
          "execution_count": 75
        }
      ]
    },
    {
      "cell_type": "code",
      "metadata": {
        "colab_type": "code",
        "id": "1SWYu20o1ITC",
        "outputId": "12284d12-3527-437e-f824-a0c03b583dfd",
        "colab": {
          "base_uri": "https://localhost:8080/",
          "height": 297
        }
      },
      "source": [
        "df_final.describe()"
      ],
      "execution_count": 76,
      "outputs": [
        {
          "output_type": "execute_result",
          "data": {
            "text/html": [
              "<div>\n",
              "<style scoped>\n",
              "    .dataframe tbody tr th:only-of-type {\n",
              "        vertical-align: middle;\n",
              "    }\n",
              "\n",
              "    .dataframe tbody tr th {\n",
              "        vertical-align: top;\n",
              "    }\n",
              "\n",
              "    .dataframe thead th {\n",
              "        text-align: right;\n",
              "    }\n",
              "</style>\n",
              "<table border=\"1\" class=\"dataframe\">\n",
              "  <thead>\n",
              "    <tr style=\"text-align: right;\">\n",
              "      <th></th>\n",
              "      <th>Open</th>\n",
              "      <th>High</th>\n",
              "      <th>Low</th>\n",
              "      <th>Close</th>\n",
              "      <th>Adj Close</th>\n",
              "      <th>Volume</th>\n",
              "    </tr>\n",
              "  </thead>\n",
              "  <tbody>\n",
              "    <tr>\n",
              "      <th>count</th>\n",
              "      <td>8508.000000</td>\n",
              "      <td>8508.000000</td>\n",
              "      <td>8508.000000</td>\n",
              "      <td>8508.000000</td>\n",
              "      <td>8508.000000</td>\n",
              "      <td>8.508000e+03</td>\n",
              "    </tr>\n",
              "    <tr>\n",
              "      <th>mean</th>\n",
              "      <td>27.963667</td>\n",
              "      <td>28.256448</td>\n",
              "      <td>27.663191</td>\n",
              "      <td>27.967167</td>\n",
              "      <td>23.151016</td>\n",
              "      <td>6.053323e+07</td>\n",
              "    </tr>\n",
              "    <tr>\n",
              "      <th>std</th>\n",
              "      <td>28.073135</td>\n",
              "      <td>28.293615</td>\n",
              "      <td>27.814854</td>\n",
              "      <td>28.069631</td>\n",
              "      <td>27.583079</td>\n",
              "      <td>3.891157e+07</td>\n",
              "    </tr>\n",
              "    <tr>\n",
              "      <th>min</th>\n",
              "      <td>0.088542</td>\n",
              "      <td>0.092014</td>\n",
              "      <td>0.088542</td>\n",
              "      <td>0.090278</td>\n",
              "      <td>0.058081</td>\n",
              "      <td>2.304000e+06</td>\n",
              "    </tr>\n",
              "    <tr>\n",
              "      <th>25%</th>\n",
              "      <td>3.373047</td>\n",
              "      <td>3.414063</td>\n",
              "      <td>3.343750</td>\n",
              "      <td>3.396485</td>\n",
              "      <td>2.185153</td>\n",
              "      <td>3.672762e+07</td>\n",
              "    </tr>\n",
              "    <tr>\n",
              "      <th>50%</th>\n",
              "      <td>26.160000</td>\n",
              "      <td>26.490000</td>\n",
              "      <td>25.860001</td>\n",
              "      <td>26.150000</td>\n",
              "      <td>18.411043</td>\n",
              "      <td>5.377450e+07</td>\n",
              "    </tr>\n",
              "    <tr>\n",
              "      <th>75%</th>\n",
              "      <td>34.095312</td>\n",
              "      <td>34.590938</td>\n",
              "      <td>33.666250</td>\n",
              "      <td>34.092500</td>\n",
              "      <td>25.329149</td>\n",
              "      <td>7.420815e+07</td>\n",
              "    </tr>\n",
              "    <tr>\n",
              "      <th>max</th>\n",
              "      <td>152.330002</td>\n",
              "      <td>152.500000</td>\n",
              "      <td>151.520004</td>\n",
              "      <td>152.320007</td>\n",
              "      <td>152.320007</td>\n",
              "      <td>1.031789e+09</td>\n",
              "    </tr>\n",
              "  </tbody>\n",
              "</table>\n",
              "</div>"
            ],
            "text/plain": [
              "              Open         High  ...    Adj Close        Volume\n",
              "count  8508.000000  8508.000000  ...  8508.000000  8.508000e+03\n",
              "mean     27.963667    28.256448  ...    23.151016  6.053323e+07\n",
              "std      28.073135    28.293615  ...    27.583079  3.891157e+07\n",
              "min       0.088542     0.092014  ...     0.058081  2.304000e+06\n",
              "25%       3.373047     3.414063  ...     2.185153  3.672762e+07\n",
              "50%      26.160000    26.490000  ...    18.411043  5.377450e+07\n",
              "75%      34.095312    34.590938  ...    25.329149  7.420815e+07\n",
              "max     152.330002   152.500000  ...   152.320007  1.031789e+09\n",
              "\n",
              "[8 rows x 6 columns]"
            ]
          },
          "metadata": {
            "tags": []
          },
          "execution_count": 76
        }
      ]
    },
    {
      "cell_type": "code",
      "metadata": {
        "colab_type": "code",
        "id": "kl3pgSxt1ZFV",
        "outputId": "e2605693-d990-49b4-f16a-f209a10e0cd6",
        "colab": {
          "base_uri": "https://localhost:8080/",
          "height": 286
        }
      },
      "source": [
        "df_final['Open'].plot()"
      ],
      "execution_count": 77,
      "outputs": [
        {
          "output_type": "execute_result",
          "data": {
            "text/plain": [
              "<matplotlib.axes._subplots.AxesSubplot at 0x7f9011c69eb8>"
            ]
          },
          "metadata": {
            "tags": []
          },
          "execution_count": 77
        },
        {
          "output_type": "display_data",
          "data": {
            "image/png": "[encoded data removed]",
            "text/plain": [
              "<Figure size 432x288 with 1 Axes>"
            ]
          },
          "metadata": {
            "tags": []
          }
        }
      ]
    },
    {
      "cell_type": "code",
      "metadata": {
        "colab_type": "code",
        "id": "8jRsrOwX1VlO",
        "colab": {}
      },
      "source": [
        "df_final=df_final.dropna()"
      ],
      "execution_count": 0,
      "outputs": []
    },
    {
      "cell_type": "code",
      "metadata": {
        "id": "Op2gtH4KQsIT",
        "colab_type": "code",
        "outputId": "570f5d70-9448-4b91-d251-69aa8eb31892",
        "colab": {
          "base_uri": "https://localhost:8080/",
          "height": 136
        }
      },
      "source": [
        "df_final.isnull().any()"
      ],
      "execution_count": 79,
      "outputs": [
        {
          "output_type": "execute_result",
          "data": {
            "text/plain": [
              "Open         False\n",
              "High         False\n",
              "Low          False\n",
              "Close        False\n",
              "Adj Close    False\n",
              "Volume       False\n",
              "dtype: bool"
            ]
          },
          "metadata": {
            "tags": []
          },
          "execution_count": 79
        }
      ]
    },
    {
      "cell_type": "code",
      "metadata": {
        "colab_type": "code",
        "id": "EYAvVfX51nlM",
        "outputId": "94452cf9-074e-4997-df34-bacf806c74e5",
        "colab": {
          "base_uri": "https://localhost:8080/",
          "height": 235
        }
      },
      "source": [
        "X=df_final.drop(['Open'],axis=1)\n",
        "X=X.drop(['Adj Close'],axis=1)\n",
        "X.head()"
      ],
      "execution_count": 80,
      "outputs": [
        {
          "output_type": "execute_result",
          "data": {
            "text/html": [
              "<div>\n",
              "<style scoped>\n",
              "    .dataframe tbody tr th:only-of-type {\n",
              "        vertical-align: middle;\n",
              "    }\n",
              "\n",
              "    .dataframe tbody tr th {\n",
              "        vertical-align: top;\n",
              "    }\n",
              "\n",
              "    .dataframe thead th {\n",
              "        text-align: right;\n",
              "    }\n",
              "</style>\n",
              "<table border=\"1\" class=\"dataframe\">\n",
              "  <thead>\n",
              "    <tr style=\"text-align: right;\">\n",
              "      <th></th>\n",
              "      <th>High</th>\n",
              "      <th>Low</th>\n",
              "      <th>Close</th>\n",
              "      <th>Volume</th>\n",
              "    </tr>\n",
              "    <tr>\n",
              "      <th>Date</th>\n",
              "      <th></th>\n",
              "      <th></th>\n",
              "      <th></th>\n",
              "      <th></th>\n",
              "    </tr>\n",
              "  </thead>\n",
              "  <tbody>\n",
              "    <tr>\n",
              "      <th>1986-03-13</th>\n",
              "      <td>0.101563</td>\n",
              "      <td>0.088542</td>\n",
              "      <td>0.097222</td>\n",
              "      <td>1031788800</td>\n",
              "    </tr>\n",
              "    <tr>\n",
              "      <th>1986-03-14</th>\n",
              "      <td>0.102431</td>\n",
              "      <td>0.097222</td>\n",
              "      <td>0.100694</td>\n",
              "      <td>308160000</td>\n",
              "    </tr>\n",
              "    <tr>\n",
              "      <th>1986-03-17</th>\n",
              "      <td>0.103299</td>\n",
              "      <td>0.100694</td>\n",
              "      <td>0.102431</td>\n",
              "      <td>133171200</td>\n",
              "    </tr>\n",
              "    <tr>\n",
              "      <th>1986-03-18</th>\n",
              "      <td>0.103299</td>\n",
              "      <td>0.098958</td>\n",
              "      <td>0.099826</td>\n",
              "      <td>67766400</td>\n",
              "    </tr>\n",
              "    <tr>\n",
              "      <th>1986-03-19</th>\n",
              "      <td>0.100694</td>\n",
              "      <td>0.097222</td>\n",
              "      <td>0.098090</td>\n",
              "      <td>47894400</td>\n",
              "    </tr>\n",
              "  </tbody>\n",
              "</table>\n",
              "</div>"
            ],
            "text/plain": [
              "                High       Low     Close      Volume\n",
              "Date                                                \n",
              "1986-03-13  0.101563  0.088542  0.097222  1031788800\n",
              "1986-03-14  0.102431  0.097222  0.100694   308160000\n",
              "1986-03-17  0.103299  0.100694  0.102431   133171200\n",
              "1986-03-18  0.103299  0.098958  0.099826    67766400\n",
              "1986-03-19  0.100694  0.097222  0.098090    47894400"
            ]
          },
          "metadata": {
            "tags": []
          },
          "execution_count": 80
        }
      ]
    },
    {
      "cell_type": "code",
      "metadata": {
        "colab_type": "code",
        "id": "Yfasg4K61u4E",
        "outputId": "4cc5ffd2-e28c-4e17-d193-a862594ca9fd",
        "colab": {
          "base_uri": "https://localhost:8080/",
          "height": 691
        }
      },
      "source": [
        "X.corrwith(df_final['Open']).plot.bar(\n",
        "        figsize = (20, 10), title = \"Correlation with Open\", fontsize = 20,\n",
        "        grid = True)"
      ],
      "execution_count": 81,
      "outputs": [
        {
          "output_type": "execute_result",
          "data": {
            "text/plain": [
              "<matplotlib.axes._subplots.AxesSubplot at 0x7f9011be5ba8>"
            ]
          },
          "metadata": {
            "tags": []
          },
          "execution_count": 81
        },
        {
          "output_type": "display_data",
          "data": {
            "image/png": "[encoded data removed]",
            "text/plain": [
              "<Figure size 1440x720 with 1 Axes>"
            ]
          },
          "metadata": {
            "tags": []
          }
        }
      ]
    },
    {
      "cell_type": "code",
      "metadata": {
        "colab_type": "code",
        "id": "zTwr3Hn51471",
        "outputId": "652da355-fbe6-402f-b8da-1ba98aac02af",
        "colab": {
          "base_uri": "https://localhost:8080/",
          "height": 235
        }
      },
      "source": [
        "test = df_final\n",
        "# Target column\n",
        "target_open = pd.DataFrame(test['Open'])\n",
        "display(test.head())"
      ],
      "execution_count": 82,
      "outputs": [
        {
          "output_type": "display_data",
          "data": {
            "text/html": [
              "<div>\n",
              "<style scoped>\n",
              "    .dataframe tbody tr th:only-of-type {\n",
              "        vertical-align: middle;\n",
              "    }\n",
              "\n",
              "    .dataframe tbody tr th {\n",
              "        vertical-align: top;\n",
              "    }\n",
              "\n",
              "    .dataframe thead th {\n",
              "        text-align: right;\n",
              "    }\n",
              "</style>\n",
              "<table border=\"1\" class=\"dataframe\">\n",
              "  <thead>\n",
              "    <tr style=\"text-align: right;\">\n",
              "      <th></th>\n",
              "      <th>Open</th>\n",
              "      <th>High</th>\n",
              "      <th>Low</th>\n",
              "      <th>Close</th>\n",
              "      <th>Adj Close</th>\n",
              "      <th>Volume</th>\n",
              "    </tr>\n",
              "    <tr>\n",
              "      <th>Date</th>\n",
              "      <th></th>\n",
              "      <th></th>\n",
              "      <th></th>\n",
              "      <th></th>\n",
              "      <th></th>\n",
              "      <th></th>\n",
              "    </tr>\n",
              "  </thead>\n",
              "  <tbody>\n",
              "    <tr>\n",
              "      <th>1986-03-13</th>\n",
              "      <td>0.088542</td>\n",
              "      <td>0.101563</td>\n",
              "      <td>0.088542</td>\n",
              "      <td>0.097222</td>\n",
              "      <td>0.062549</td>\n",
              "      <td>1031788800</td>\n",
              "    </tr>\n",
              "    <tr>\n",
              "      <th>1986-03-14</th>\n",
              "      <td>0.097222</td>\n",
              "      <td>0.102431</td>\n",
              "      <td>0.097222</td>\n",
              "      <td>0.100694</td>\n",
              "      <td>0.064783</td>\n",
              "      <td>308160000</td>\n",
              "    </tr>\n",
              "    <tr>\n",
              "      <th>1986-03-17</th>\n",
              "      <td>0.100694</td>\n",
              "      <td>0.103299</td>\n",
              "      <td>0.100694</td>\n",
              "      <td>0.102431</td>\n",
              "      <td>0.065899</td>\n",
              "      <td>133171200</td>\n",
              "    </tr>\n",
              "    <tr>\n",
              "      <th>1986-03-18</th>\n",
              "      <td>0.102431</td>\n",
              "      <td>0.103299</td>\n",
              "      <td>0.098958</td>\n",
              "      <td>0.099826</td>\n",
              "      <td>0.064224</td>\n",
              "      <td>67766400</td>\n",
              "    </tr>\n",
              "    <tr>\n",
              "      <th>1986-03-19</th>\n",
              "      <td>0.099826</td>\n",
              "      <td>0.100694</td>\n",
              "      <td>0.097222</td>\n",
              "      <td>0.098090</td>\n",
              "      <td>0.063107</td>\n",
              "      <td>47894400</td>\n",
              "    </tr>\n",
              "  </tbody>\n",
              "</table>\n",
              "</div>"
            ],
            "text/plain": [
              "                Open      High       Low     Close  Adj Close      Volume\n",
              "Date                                                                     \n",
              "1986-03-13  0.088542  0.101563  0.088542  0.097222   0.062549  1031788800\n",
              "1986-03-14  0.097222  0.102431  0.097222  0.100694   0.064783   308160000\n",
              "1986-03-17  0.100694  0.103299  0.100694  0.102431   0.065899   133171200\n",
              "1986-03-18  0.102431  0.103299  0.098958  0.099826   0.064224    67766400\n",
              "1986-03-19  0.099826  0.100694  0.097222  0.098090   0.063107    47894400"
            ]
          },
          "metadata": {
            "tags": []
          }
        }
      ]
    },
    {
      "cell_type": "code",
      "metadata": {
        "colab_type": "code",
        "id": "NepJmm3619Q_",
        "colab": {}
      },
      "source": [
        "feature_columns = ['High', 'Low', 'Close']"
      ],
      "execution_count": 0,
      "outputs": []
    },
    {
      "cell_type": "code",
      "metadata": {
        "colab_type": "code",
        "id": "7qMq8vap2JtZ",
        "outputId": "09d24e80-fa1c-45c8-d113-b2cf1da3d1da",
        "colab": {
          "base_uri": "https://localhost:8080/",
          "height": 235
        }
      },
      "source": [
        "from sklearn.preprocessing import MinMaxScaler\n",
        "scaler = MinMaxScaler()\n",
        "feature_minmax_transform_data = scaler.fit_transform(test[feature_columns])\n",
        "feature_minmax_transform = pd.DataFrame(columns=feature_columns, data=feature_minmax_transform_data, index=test.index)\n",
        "feature_minmax_transform.head()"
      ],
      "execution_count": 84,
      "outputs": [
        {
          "output_type": "execute_result",
          "data": {
            "text/html": [
              "<div>\n",
              "<style scoped>\n",
              "    .dataframe tbody tr th:only-of-type {\n",
              "        vertical-align: middle;\n",
              "    }\n",
              "\n",
              "    .dataframe tbody tr th {\n",
              "        vertical-align: top;\n",
              "    }\n",
              "\n",
              "    .dataframe thead th {\n",
              "        text-align: right;\n",
              "    }\n",
              "</style>\n",
              "<table border=\"1\" class=\"dataframe\">\n",
              "  <thead>\n",
              "    <tr style=\"text-align: right;\">\n",
              "      <th></th>\n",
              "      <th>High</th>\n",
              "      <th>Low</th>\n",
              "      <th>Close</th>\n",
              "    </tr>\n",
              "    <tr>\n",
              "      <th>Date</th>\n",
              "      <th></th>\n",
              "      <th></th>\n",
              "      <th></th>\n",
              "    </tr>\n",
              "  </thead>\n",
              "  <tbody>\n",
              "    <tr>\n",
              "      <th>1986-03-13</th>\n",
              "      <td>0.000063</td>\n",
              "      <td>0.000000</td>\n",
              "      <td>0.000046</td>\n",
              "    </tr>\n",
              "    <tr>\n",
              "      <th>1986-03-14</th>\n",
              "      <td>0.000068</td>\n",
              "      <td>0.000057</td>\n",
              "      <td>0.000068</td>\n",
              "    </tr>\n",
              "    <tr>\n",
              "      <th>1986-03-17</th>\n",
              "      <td>0.000074</td>\n",
              "      <td>0.000080</td>\n",
              "      <td>0.000080</td>\n",
              "    </tr>\n",
              "    <tr>\n",
              "      <th>1986-03-18</th>\n",
              "      <td>0.000074</td>\n",
              "      <td>0.000069</td>\n",
              "      <td>0.000063</td>\n",
              "    </tr>\n",
              "    <tr>\n",
              "      <th>1986-03-19</th>\n",
              "      <td>0.000057</td>\n",
              "      <td>0.000057</td>\n",
              "      <td>0.000051</td>\n",
              "    </tr>\n",
              "  </tbody>\n",
              "</table>\n",
              "</div>"
            ],
            "text/plain": [
              "                High       Low     Close\n",
              "Date                                    \n",
              "1986-03-13  0.000063  0.000000  0.000046\n",
              "1986-03-14  0.000068  0.000057  0.000068\n",
              "1986-03-17  0.000074  0.000080  0.000080\n",
              "1986-03-18  0.000074  0.000069  0.000063\n",
              "1986-03-19  0.000057  0.000057  0.000051"
            ]
          },
          "metadata": {
            "tags": []
          },
          "execution_count": 84
        }
      ]
    },
    {
      "cell_type": "code",
      "metadata": {
        "colab_type": "code",
        "id": "J67jECqB2ZGs",
        "outputId": "f31b6296-2281-464e-e62a-bc87223526e8",
        "colab": {
          "base_uri": "https://localhost:8080/",
          "height": 269
        }
      },
      "source": [
        "display(feature_minmax_transform.head())\n",
        "print('Shape of features : ', feature_minmax_transform.shape)\n",
        "print('Shape of target : ', target_open.shape)\n",
        "\n",
        "\n",
        "target_open = target_open.shift(-1)\n",
        "#target_open = target_open[:-90]\n",
        "\n",
        "#feature_minmax_transform = feature_minmax_transform[:-90]\n"
      ],
      "execution_count": 85,
      "outputs": [
        {
          "output_type": "display_data",
          "data": {
            "text/html": [
              "<div>\n",
              "<style scoped>\n",
              "    .dataframe tbody tr th:only-of-type {\n",
              "        vertical-align: middle;\n",
              "    }\n",
              "\n",
              "    .dataframe tbody tr th {\n",
              "        vertical-align: top;\n",
              "    }\n",
              "\n",
              "    .dataframe thead th {\n",
              "        text-align: right;\n",
              "    }\n",
              "</style>\n",
              "<table border=\"1\" class=\"dataframe\">\n",
              "  <thead>\n",
              "    <tr style=\"text-align: right;\">\n",
              "      <th></th>\n",
              "      <th>High</th>\n",
              "      <th>Low</th>\n",
              "      <th>Close</th>\n",
              "    </tr>\n",
              "    <tr>\n",
              "      <th>Date</th>\n",
              "      <th></th>\n",
              "      <th></th>\n",
              "      <th></th>\n",
              "    </tr>\n",
              "  </thead>\n",
              "  <tbody>\n",
              "    <tr>\n",
              "      <th>1986-03-13</th>\n",
              "      <td>0.000063</td>\n",
              "      <td>0.000000</td>\n",
              "      <td>0.000046</td>\n",
              "    </tr>\n",
              "    <tr>\n",
              "      <th>1986-03-14</th>\n",
              "      <td>0.000068</td>\n",
              "      <td>0.000057</td>\n",
              "      <td>0.000068</td>\n",
              "    </tr>\n",
              "    <tr>\n",
              "      <th>1986-03-17</th>\n",
              "      <td>0.000074</td>\n",
              "      <td>0.000080</td>\n",
              "      <td>0.000080</td>\n",
              "    </tr>\n",
              "    <tr>\n",
              "      <th>1986-03-18</th>\n",
              "      <td>0.000074</td>\n",
              "      <td>0.000069</td>\n",
              "      <td>0.000063</td>\n",
              "    </tr>\n",
              "    <tr>\n",
              "      <th>1986-03-19</th>\n",
              "      <td>0.000057</td>\n",
              "      <td>0.000057</td>\n",
              "      <td>0.000051</td>\n",
              "    </tr>\n",
              "  </tbody>\n",
              "</table>\n",
              "</div>"
            ],
            "text/plain": [
              "                High       Low     Close\n",
              "Date                                    \n",
              "1986-03-13  0.000063  0.000000  0.000046\n",
              "1986-03-14  0.000068  0.000057  0.000068\n",
              "1986-03-17  0.000074  0.000080  0.000080\n",
              "1986-03-18  0.000074  0.000069  0.000063\n",
              "1986-03-19  0.000057  0.000057  0.000051"
            ]
          },
          "metadata": {
            "tags": []
          }
        },
        {
          "output_type": "stream",
          "text": [
            "Shape of features :  (8508, 3)\n",
            "Shape of target :  (8508, 1)\n"
          ],
          "name": "stdout"
        }
      ]
    },
    {
      "cell_type": "code",
      "metadata": {
        "colab_type": "code",
        "id": "PmmQPrSC2inj",
        "colab": {}
      },
      "source": [
        "ts_split= TimeSeriesSplit(n_splits=10)\n",
        "for train_index, test_index in ts_split.split(feature_minmax_transform):\n",
        "        X_train, X_test = feature_minmax_transform[:len(train_index)], feature_minmax_transform[len(train_index): (len(train_index)+len(test_index))]\n",
        "        y_train, y_test = target_open[:len(train_index)].values.ravel(), target_open[len(train_index): (len(train_index)+len(test_index))].values.ravel()"
      ],
      "execution_count": 0,
      "outputs": []
    },
    {
      "cell_type": "code",
      "metadata": {
        "colab_type": "code",
        "id": "c1H1jAp02vdf",
        "colab": {}
      },
      "source": [
        "X_train =np.array(X_train)\n",
        "X_test =np.array(X_test)\n",
        "\n",
        "X_tr_t = X_train.reshape(X_train.shape[0], 1, X_train.shape[1])\n",
        "X_tst_t = X_test.reshape(X_test.shape[0], 1, X_test.shape[1])"
      ],
      "execution_count": 0,
      "outputs": []
    },
    {
      "cell_type": "code",
      "metadata": {
        "colab_type": "code",
        "id": "HX1CZapE23G7",
        "outputId": "e749718c-a811-4c33-ac07-23e576c82adf",
        "colab": {
          "base_uri": "https://localhost:8080/",
          "height": 1000
        }
      },
      "source": [
        "from keras.models import Sequential\n",
        "from keras.layers import Flatten\n",
        "from keras.layers import Dense\n",
        "import keras.backend as K\n",
        "from keras.callbacks import EarlyStopping\n",
        "from keras.optimizers import Adam\n",
        "from keras.models import load_model\n",
        "from keras.layers import LSTM\n",
        "K.clear_session()\n",
        "model_lstm = Sequential()\n",
        "model_lstm.add(LSTM(144, input_shape=(1, X_train.shape[1]), activation='relu', return_sequences=False))\n",
        "model_lstm.add(Dense(1))\n",
        "model_lstm.compile(loss='mean_squared_error', optimizer='adam')\n",
        "early_stop = EarlyStopping(monitor='loss', patience=5, verbose=1)\n",
        "history_model_lstm = model_lstm.fit(X_tr_t, y_train, epochs=200, batch_size=8, verbose=1, shuffle=False, callbacks=[early_stop])"
      ],
      "execution_count": 88,
      "outputs": [
        {
          "output_type": "stream",
          "text": [
            "Epoch 1/200\n",
            "7735/7735 [==============================] - 6s 769us/step - loss: 2.2131\n",
            "Epoch 2/200\n",
            "7735/7735 [==============================] - 6s 793us/step - loss: 17.5008\n",
            "Epoch 3/200\n",
            "7735/7735 [==============================] - 6s 773us/step - loss: 7.4066\n",
            "Epoch 4/200\n",
            "7735/7735 [==============================] - 6s 792us/step - loss: 3.3653\n",
            "Epoch 5/200\n",
            "7735/7735 [==============================] - 6s 792us/step - loss: 1.9511\n",
            "Epoch 6/200\n",
            "7735/7735 [==============================] - 6s 767us/step - loss: 1.3941\n",
            "Epoch 7/200\n",
            "7735/7735 [==============================] - 6s 839us/step - loss: 1.1118\n",
            "Epoch 8/200\n",
            "7735/7735 [==============================] - 6s 834us/step - loss: 0.9299\n",
            "Epoch 9/200\n",
            "7735/7735 [==============================] - 6s 764us/step - loss: 0.7951\n",
            "Epoch 10/200\n",
            "7735/7735 [==============================] - 6s 719us/step - loss: 0.6816\n",
            "Epoch 11/200\n",
            "7735/7735 [==============================] - 6s 747us/step - loss: 0.5831\n",
            "Epoch 12/200\n",
            "7735/7735 [==============================] - 6s 741us/step - loss: 0.4998\n",
            "Epoch 13/200\n",
            "7735/7735 [==============================] - 6s 739us/step - loss: 0.4309\n",
            "Epoch 14/200\n",
            "7735/7735 [==============================] - 5s 708us/step - loss: 0.3742\n",
            "Epoch 15/200\n",
            "7735/7735 [==============================] - 6s 734us/step - loss: 0.3275\n",
            "Epoch 16/200\n",
            "7735/7735 [==============================] - 6s 729us/step - loss: 0.2888\n",
            "Epoch 17/200\n",
            "7735/7735 [==============================] - 6s 717us/step - loss: 0.2571\n",
            "Epoch 18/200\n",
            "7735/7735 [==============================] - 6s 712us/step - loss: 0.2315\n",
            "Epoch 19/200\n",
            "7735/7735 [==============================] - 5s 685us/step - loss: 0.2112\n",
            "Epoch 20/200\n",
            "7735/7735 [==============================] - 5s 617us/step - loss: 0.1941\n",
            "Epoch 21/200\n",
            "7735/7735 [==============================] - 5s 633us/step - loss: 0.1793\n",
            "Epoch 22/200\n",
            "7735/7735 [==============================] - 5s 639us/step - loss: 0.1671\n",
            "Epoch 23/200\n",
            "7735/7735 [==============================] - 5s 612us/step - loss: 0.1586\n",
            "Epoch 24/200\n",
            "7735/7735 [==============================] - 5s 613us/step - loss: 0.1531\n",
            "Epoch 25/200\n",
            "7735/7735 [==============================] - 5s 645us/step - loss: 0.1498\n",
            "Epoch 26/200\n",
            "7735/7735 [==============================] - 6s 752us/step - loss: 0.1468\n",
            "Epoch 27/200\n",
            "7735/7735 [==============================] - 6s 763us/step - loss: 0.1440\n",
            "Epoch 28/200\n",
            "7735/7735 [==============================] - 6s 756us/step - loss: 0.1416\n",
            "Epoch 29/200\n",
            "7735/7735 [==============================] - 6s 763us/step - loss: 0.1395\n",
            "Epoch 30/200\n",
            "7735/7735 [==============================] - 6s 744us/step - loss: 0.1379\n",
            "Epoch 31/200\n",
            "7735/7735 [==============================] - 6s 761us/step - loss: 0.1362\n",
            "Epoch 32/200\n",
            "7735/7735 [==============================] - 6s 753us/step - loss: 0.1348\n",
            "Epoch 33/200\n",
            "7735/7735 [==============================] - 6s 760us/step - loss: 0.1334\n",
            "Epoch 34/200\n",
            "7735/7735 [==============================] - 6s 753us/step - loss: 0.1322\n",
            "Epoch 35/200\n",
            "7735/7735 [==============================] - 6s 787us/step - loss: 0.1312\n",
            "Epoch 36/200\n",
            "7735/7735 [==============================] - 6s 722us/step - loss: 0.1302\n",
            "Epoch 37/200\n",
            "7735/7735 [==============================] - 6s 761us/step - loss: 0.1294\n",
            "Epoch 38/200\n",
            "7735/7735 [==============================] - 5s 708us/step - loss: 0.1288\n",
            "Epoch 39/200\n",
            "7735/7735 [==============================] - 5s 703us/step - loss: 0.1282\n",
            "Epoch 40/200\n",
            "7735/7735 [==============================] - 6s 728us/step - loss: 0.1278\n",
            "Epoch 41/200\n",
            "7735/7735 [==============================] - 5s 707us/step - loss: 0.1275\n",
            "Epoch 42/200\n",
            "7735/7735 [==============================] - 5s 696us/step - loss: 0.1272\n",
            "Epoch 43/200\n",
            "7735/7735 [==============================] - 5s 672us/step - loss: 0.1269\n",
            "Epoch 44/200\n",
            "7735/7735 [==============================] - 5s 587us/step - loss: 0.1266\n",
            "Epoch 45/200\n",
            "7735/7735 [==============================] - 5s 621us/step - loss: 0.1264\n",
            "Epoch 46/200\n",
            "7735/7735 [==============================] - 5s 640us/step - loss: 0.1261\n",
            "Epoch 47/200\n",
            "7735/7735 [==============================] - 5s 687us/step - loss: 0.1259\n",
            "Epoch 48/200\n",
            "7735/7735 [==============================] - 5s 636us/step - loss: 0.1256\n",
            "Epoch 49/200\n",
            "7735/7735 [==============================] - 5s 601us/step - loss: 0.1254\n",
            "Epoch 50/200\n",
            "7735/7735 [==============================] - 5s 588us/step - loss: 0.1252\n",
            "Epoch 51/200\n",
            "7735/7735 [==============================] - 5s 611us/step - loss: 0.1250\n",
            "Epoch 52/200\n",
            "7735/7735 [==============================] - 5s 604us/step - loss: 0.1248\n",
            "Epoch 53/200\n",
            "7735/7735 [==============================] - 5s 598us/step - loss: 0.1246\n",
            "Epoch 54/200\n",
            "7735/7735 [==============================] - 5s 651us/step - loss: 0.1244\n",
            "Epoch 55/200\n",
            "7735/7735 [==============================] - 5s 683us/step - loss: 0.1242\n",
            "Epoch 56/200\n",
            "7735/7735 [==============================] - 5s 690us/step - loss: 0.1240\n",
            "Epoch 57/200\n",
            "7735/7735 [==============================] - 5s 677us/step - loss: 0.1239\n",
            "Epoch 58/200\n",
            "7735/7735 [==============================] - 5s 687us/step - loss: 0.1237\n",
            "Epoch 59/200\n",
            "7735/7735 [==============================] - 5s 685us/step - loss: 0.1235\n",
            "Epoch 60/200\n",
            "7735/7735 [==============================] - 5s 697us/step - loss: 0.1234\n",
            "Epoch 61/200\n",
            "7735/7735 [==============================] - 5s 694us/step - loss: 0.1232\n",
            "Epoch 62/200\n",
            "7735/7735 [==============================] - 5s 708us/step - loss: 0.1231\n",
            "Epoch 63/200\n",
            "7735/7735 [==============================] - 6s 716us/step - loss: 0.1229\n",
            "Epoch 64/200\n",
            "7735/7735 [==============================] - 5s 650us/step - loss: 0.1228\n",
            "Epoch 65/200\n",
            "7735/7735 [==============================] - 6s 732us/step - loss: 0.1227\n",
            "Epoch 66/200\n",
            "7735/7735 [==============================] - 5s 686us/step - loss: 0.1226\n",
            "Epoch 67/200\n",
            "7735/7735 [==============================] - 5s 674us/step - loss: 0.1225\n",
            "Epoch 68/200\n",
            "7735/7735 [==============================] - 5s 638us/step - loss: 0.1224\n",
            "Epoch 69/200\n",
            "7735/7735 [==============================] - 5s 633us/step - loss: 0.1223\n",
            "Epoch 70/200\n",
            "7735/7735 [==============================] - 5s 645us/step - loss: 0.1222\n",
            "Epoch 71/200\n",
            "7735/7735 [==============================] - 5s 611us/step - loss: 0.1221\n",
            "Epoch 72/200\n",
            "7735/7735 [==============================] - 4s 565us/step - loss: 0.1219\n",
            "Epoch 73/200\n",
            "7735/7735 [==============================] - 4s 568us/step - loss: 0.1218\n",
            "Epoch 74/200\n",
            "7735/7735 [==============================] - 4s 572us/step - loss: 0.1217\n",
            "Epoch 75/200\n",
            "7735/7735 [==============================] - 4s 564us/step - loss: 0.1216\n",
            "Epoch 76/200\n",
            "7735/7735 [==============================] - 5s 583us/step - loss: 0.1215\n",
            "Epoch 77/200\n",
            "7735/7735 [==============================] - 5s 649us/step - loss: 0.1214\n",
            "Epoch 78/200\n",
            "7735/7735 [==============================] - 5s 638us/step - loss: 0.1213\n",
            "Epoch 79/200\n",
            "7735/7735 [==============================] - 5s 669us/step - loss: 0.1212\n",
            "Epoch 80/200\n",
            "7735/7735 [==============================] - 5s 675us/step - loss: 0.1211\n",
            "Epoch 81/200\n",
            "7735/7735 [==============================] - 5s 661us/step - loss: 0.1210\n",
            "Epoch 82/200\n",
            "7735/7735 [==============================] - 5s 676us/step - loss: 0.1209\n",
            "Epoch 83/200\n",
            "7735/7735 [==============================] - 5s 701us/step - loss: 0.1208\n",
            "Epoch 84/200\n",
            "7735/7735 [==============================] - 5s 692us/step - loss: 0.1207\n",
            "Epoch 85/200\n",
            "7735/7735 [==============================] - 5s 649us/step - loss: 0.1206\n",
            "Epoch 86/200\n",
            "7735/7735 [==============================] - 5s 663us/step - loss: 0.1205\n",
            "Epoch 87/200\n",
            "7735/7735 [==============================] - 5s 659us/step - loss: 0.1204\n",
            "Epoch 88/200\n",
            "7735/7735 [==============================] - 5s 687us/step - loss: 0.1203\n",
            "Epoch 89/200\n",
            "7735/7735 [==============================] - 5s 635us/step - loss: 0.1203\n",
            "Epoch 90/200\n",
            "7735/7735 [==============================] - 5s 629us/step - loss: 0.1202\n",
            "Epoch 91/200\n",
            "7735/7735 [==============================] - 5s 626us/step - loss: 0.1201\n",
            "Epoch 92/200\n",
            "7735/7735 [==============================] - 5s 611us/step - loss: 0.1200\n",
            "Epoch 93/200\n",
            "7735/7735 [==============================] - 5s 637us/step - loss: 0.1199\n",
            "Epoch 94/200\n",
            "7735/7735 [==============================] - 5s 644us/step - loss: 0.1199\n",
            "Epoch 95/200\n",
            "7735/7735 [==============================] - 5s 611us/step - loss: 0.1198\n",
            "Epoch 96/200\n",
            "7735/7735 [==============================] - 4s 573us/step - loss: 0.1197\n",
            "Epoch 97/200\n",
            "7735/7735 [==============================] - 4s 563us/step - loss: 0.1196\n",
            "Epoch 98/200\n",
            "7735/7735 [==============================] - 5s 595us/step - loss: 0.1196\n",
            "Epoch 99/200\n",
            "7735/7735 [==============================] - 4s 572us/step - loss: 0.1195\n",
            "Epoch 100/200\n",
            "7735/7735 [==============================] - 5s 589us/step - loss: 0.1194\n",
            "Epoch 101/200\n",
            "7735/7735 [==============================] - 4s 570us/step - loss: 0.1193\n",
            "Epoch 102/200\n",
            "7735/7735 [==============================] - 5s 597us/step - loss: 0.1192\n",
            "Epoch 103/200\n",
            "7735/7735 [==============================] - 4s 562us/step - loss: 0.1192\n",
            "Epoch 104/200\n",
            "7735/7735 [==============================] - 5s 617us/step - loss: 0.1191\n",
            "Epoch 105/200\n",
            "7735/7735 [==============================] - 5s 607us/step - loss: 0.1191\n",
            "Epoch 106/200\n",
            "7735/7735 [==============================] - 4s 572us/step - loss: 0.1190\n",
            "Epoch 107/200\n",
            "7735/7735 [==============================] - 4s 577us/step - loss: 0.1190\n",
            "Epoch 108/200\n",
            "7735/7735 [==============================] - 4s 558us/step - loss: 0.1189\n",
            "Epoch 109/200\n",
            "7735/7735 [==============================] - 4s 558us/step - loss: 0.1188\n",
            "Epoch 110/200\n",
            "7735/7735 [==============================] - 5s 587us/step - loss: 0.1188\n",
            "Epoch 111/200\n",
            "7735/7735 [==============================] - 4s 577us/step - loss: 0.1187\n",
            "Epoch 112/200\n",
            "7735/7735 [==============================] - 4s 580us/step - loss: 0.1186\n",
            "Epoch 113/200\n",
            "7735/7735 [==============================] - 4s 575us/step - loss: 0.1185\n",
            "Epoch 114/200\n",
            "7735/7735 [==============================] - 5s 592us/step - loss: 0.1185\n",
            "Epoch 115/200\n",
            "7735/7735 [==============================] - 5s 586us/step - loss: 0.1184\n",
            "Epoch 116/200\n",
            "7735/7735 [==============================] - 4s 558us/step - loss: 0.1183\n",
            "Epoch 117/200\n",
            "7735/7735 [==============================] - 4s 565us/step - loss: 0.1182\n",
            "Epoch 118/200\n",
            "7735/7735 [==============================] - 4s 579us/step - loss: 0.1182\n",
            "Epoch 119/200\n",
            "7735/7735 [==============================] - 5s 603us/step - loss: 0.1181\n",
            "Epoch 120/200\n",
            "7735/7735 [==============================] - 4s 579us/step - loss: 0.1180\n",
            "Epoch 121/200\n",
            "7735/7735 [==============================] - 5s 619us/step - loss: 0.1180\n",
            "Epoch 122/200\n",
            "7735/7735 [==============================] - 5s 586us/step - loss: 0.1179\n",
            "Epoch 123/200\n",
            "7735/7735 [==============================] - 4s 571us/step - loss: 0.1178\n",
            "Epoch 124/200\n",
            "7735/7735 [==============================] - 4s 570us/step - loss: 0.1177\n",
            "Epoch 125/200\n",
            "7735/7735 [==============================] - 5s 636us/step - loss: 0.1177\n",
            "Epoch 126/200\n",
            "7735/7735 [==============================] - 5s 620us/step - loss: 0.1176\n",
            "Epoch 127/200\n",
            "7735/7735 [==============================] - 5s 638us/step - loss: 0.1175\n",
            "Epoch 128/200\n",
            "7735/7735 [==============================] - 5s 641us/step - loss: 0.1175\n",
            "Epoch 129/200\n",
            "7735/7735 [==============================] - 5s 626us/step - loss: 0.1174\n",
            "Epoch 130/200\n",
            "7735/7735 [==============================] - 5s 673us/step - loss: 0.1173\n",
            "Epoch 131/200\n",
            "7735/7735 [==============================] - 5s 685us/step - loss: 0.1173\n",
            "Epoch 132/200\n",
            "7735/7735 [==============================] - 5s 672us/step - loss: 0.1172\n",
            "Epoch 133/200\n",
            "7735/7735 [==============================] - 5s 646us/step - loss: 0.1171\n",
            "Epoch 134/200\n",
            "7735/7735 [==============================] - 5s 669us/step - loss: 0.1171\n",
            "Epoch 135/200\n",
            "7735/7735 [==============================] - 5s 674us/step - loss: 0.1170\n",
            "Epoch 136/200\n",
            "7735/7735 [==============================] - 5s 682us/step - loss: 0.1170\n",
            "Epoch 137/200\n",
            "7735/7735 [==============================] - 5s 675us/step - loss: 0.1169\n",
            "Epoch 138/200\n",
            "7735/7735 [==============================] - 5s 671us/step - loss: 0.1168\n",
            "Epoch 139/200\n",
            "7735/7735 [==============================] - 5s 660us/step - loss: 0.1168\n",
            "Epoch 140/200\n",
            "7735/7735 [==============================] - 5s 652us/step - loss: 0.1167\n",
            "Epoch 141/200\n",
            "7735/7735 [==============================] - 5s 658us/step - loss: 0.1166\n",
            "Epoch 142/200\n",
            "7735/7735 [==============================] - 5s 682us/step - loss: 0.1166\n",
            "Epoch 143/200\n",
            "7735/7735 [==============================] - 5s 671us/step - loss: 0.1165\n",
            "Epoch 144/200\n",
            "7735/7735 [==============================] - 5s 677us/step - loss: 0.1164\n",
            "Epoch 145/200\n",
            "7735/7735 [==============================] - 5s 701us/step - loss: 0.1164\n",
            "Epoch 146/200\n",
            "7735/7735 [==============================] - 5s 682us/step - loss: 0.1163\n",
            "Epoch 147/200\n",
            "7735/7735 [==============================] - 5s 695us/step - loss: 0.1161\n",
            "Epoch 148/200\n",
            "7735/7735 [==============================] - 5s 680us/step - loss: 0.1160\n",
            "Epoch 149/200\n",
            "7735/7735 [==============================] - 5s 678us/step - loss: 0.1158\n",
            "Epoch 150/200\n",
            "7735/7735 [==============================] - 5s 680us/step - loss: 0.1157\n",
            "Epoch 151/200\n",
            "7735/7735 [==============================] - 5s 679us/step - loss: 0.1155\n",
            "Epoch 152/200\n",
            "7735/7735 [==============================] - 5s 671us/step - loss: 0.1153\n",
            "Epoch 153/200\n",
            "7735/7735 [==============================] - 5s 684us/step - loss: 0.1152\n",
            "Epoch 154/200\n",
            "7735/7735 [==============================] - 5s 681us/step - loss: 0.1150\n",
            "Epoch 155/200\n",
            "7735/7735 [==============================] - 5s 673us/step - loss: 0.1149\n",
            "Epoch 156/200\n",
            "7735/7735 [==============================] - 5s 645us/step - loss: 0.1148\n",
            "Epoch 157/200\n",
            "7735/7735 [==============================] - 5s 667us/step - loss: 0.1147\n",
            "Epoch 158/200\n",
            "7735/7735 [==============================] - 5s 662us/step - loss: 0.1146\n",
            "Epoch 159/200\n",
            "7735/7735 [==============================] - 5s 666us/step - loss: 0.1144\n",
            "Epoch 160/200\n",
            "7735/7735 [==============================] - 5s 647us/step - loss: 0.1142\n",
            "Epoch 161/200\n",
            "7735/7735 [==============================] - 5s 630us/step - loss: 0.1140\n",
            "Epoch 162/200\n",
            "7735/7735 [==============================] - 5s 639us/step - loss: 0.1140\n",
            "Epoch 163/200\n",
            "7735/7735 [==============================] - 5s 648us/step - loss: 0.1138\n",
            "Epoch 164/200\n",
            "7735/7735 [==============================] - 5s 642us/step - loss: 0.1137\n",
            "Epoch 165/200\n",
            "7735/7735 [==============================] - 5s 640us/step - loss: 0.1136\n",
            "Epoch 166/200\n",
            "7735/7735 [==============================] - 5s 646us/step - loss: 0.1136\n",
            "Epoch 167/200\n",
            "7735/7735 [==============================] - 5s 646us/step - loss: 0.1135\n",
            "Epoch 168/200\n",
            "7735/7735 [==============================] - 5s 653us/step - loss: 0.1134\n",
            "Epoch 169/200\n",
            "7735/7735 [==============================] - 5s 634us/step - loss: 0.1134\n",
            "Epoch 170/200\n",
            "7735/7735 [==============================] - 5s 634us/step - loss: 0.1134\n",
            "Epoch 171/200\n",
            "7735/7735 [==============================] - 5s 665us/step - loss: 0.1133\n",
            "Epoch 172/200\n",
            "7735/7735 [==============================] - 5s 639us/step - loss: 0.1133\n",
            "Epoch 173/200\n",
            "7735/7735 [==============================] - 5s 649us/step - loss: 0.1133\n",
            "Epoch 174/200\n",
            "7735/7735 [==============================] - 5s 660us/step - loss: 0.1133\n",
            "Epoch 175/200\n",
            "7735/7735 [==============================] - 5s 672us/step - loss: 0.1132\n",
            "Epoch 176/200\n",
            "7735/7735 [==============================] - 5s 651us/step - loss: 0.1132\n",
            "Epoch 177/200\n",
            "7735/7735 [==============================] - 5s 646us/step - loss: 0.1131\n",
            "Epoch 178/200\n",
            "7735/7735 [==============================] - 5s 642us/step - loss: 0.1131\n",
            "Epoch 179/200\n",
            "7735/7735 [==============================] - 5s 655us/step - loss: 0.1131\n",
            "Epoch 180/200\n",
            "7735/7735 [==============================] - 5s 654us/step - loss: 0.1130\n",
            "Epoch 181/200\n",
            "7735/7735 [==============================] - 5s 678us/step - loss: 0.1130\n",
            "Epoch 182/200\n",
            "7735/7735 [==============================] - 5s 669us/step - loss: 0.1129\n",
            "Epoch 183/200\n",
            "7735/7735 [==============================] - 5s 673us/step - loss: 0.1129\n",
            "Epoch 184/200\n",
            "7735/7735 [==============================] - 5s 669us/step - loss: 0.1128\n",
            "Epoch 185/200\n",
            "7735/7735 [==============================] - 5s 681us/step - loss: 0.1128\n",
            "Epoch 186/200\n",
            "7735/7735 [==============================] - 5s 678us/step - loss: 0.1127\n",
            "Epoch 187/200\n",
            "7735/7735 [==============================] - 5s 685us/step - loss: 0.1127\n",
            "Epoch 188/200\n",
            "7735/7735 [==============================] - 5s 673us/step - loss: 0.1126\n",
            "Epoch 189/200\n",
            "7735/7735 [==============================] - 5s 664us/step - loss: 0.1126\n",
            "Epoch 190/200\n",
            "7735/7735 [==============================] - 5s 678us/step - loss: 0.1125\n",
            "Epoch 191/200\n",
            "7735/7735 [==============================] - 5s 674us/step - loss: 0.1124\n",
            "Epoch 192/200\n",
            "7735/7735 [==============================] - 5s 693us/step - loss: 0.1124\n",
            "Epoch 193/200\n",
            "7735/7735 [==============================] - 5s 670us/step - loss: 0.1123\n",
            "Epoch 194/200\n",
            "7735/7735 [==============================] - 5s 656us/step - loss: 0.1123\n",
            "Epoch 195/200\n",
            "7735/7735 [==============================] - 5s 646us/step - loss: 0.1122\n",
            "Epoch 196/200\n",
            "7735/7735 [==============================] - 5s 645us/step - loss: 0.1122\n",
            "Epoch 197/200\n",
            "7735/7735 [==============================] - 5s 656us/step - loss: 0.1121\n",
            "Epoch 198/200\n",
            "7735/7735 [==============================] - 5s 663us/step - loss: 0.1121\n",
            "Epoch 199/200\n",
            "7735/7735 [==============================] - 5s 644us/step - loss: 0.1120\n",
            "Epoch 200/200\n",
            "7735/7735 [==============================] - 5s 659us/step - loss: 0.1120\n"
          ],
          "name": "stdout"
        }
      ]
    },
    {
      "cell_type": "code",
      "metadata": {
        "colab_type": "code",
        "id": "XdUweoYH4pTc",
        "colab": {}
      },
      "source": [
        "y_pred_test_LSTM = model_lstm.predict(X_tst_t)"
      ],
      "execution_count": 0,
      "outputs": []
    },
    {
      "cell_type": "code",
      "metadata": {
        "id": "kyyuiYmUZ7Z6",
        "colab_type": "code",
        "outputId": "0e3e1d28-85d5-4922-8b52-7dbb11461309",
        "colab": {
          "base_uri": "https://localhost:8080/",
          "height": 34
        }
      },
      "source": [
        "print(y_pred_test_LSTM[-1])"
      ],
      "execution_count": 90,
      "outputs": [
        {
          "output_type": "stream",
          "text": [
            "[185.39395]\n"
          ],
          "name": "stdout"
        }
      ]
    },
    {
      "cell_type": "code",
      "metadata": {
        "colab_type": "code",
        "id": "8cCgRQdE4xsR",
        "outputId": "194dac4a-fdb2-4849-d1f5-4d2780de796f",
        "colab": {
          "base_uri": "https://localhost:8080/",
          "height": 295
        }
      },
      "source": [
        "plt.plot(y_test, label='True')\n",
        "plt.plot(y_pred_test_LSTM, label='LSTM')\n",
        "plt.title(\"LSTM's_Prediction\")\n",
        "plt.xlabel('Observation')\n",
        "plt.ylabel('USD_Scaled')\n",
        "plt.legend()\n",
        "plt.show()\n"
      ],
      "execution_count": 91,
      "outputs": [
        {
          "output_type": "display_data",
          "data": {
            "image/png": "[encoded data removed]",
            "text/plain": [
              "<Figure size 432x288 with 1 Axes>"
            ]
          },
          "metadata": {
            "tags": []
          }
        }
      ]
    },
    {
      "cell_type": "code",
      "metadata": {
        "id": "2tA1woHpiVCV",
        "colab_type": "code",
        "outputId": "ac79d38b-8c78-4c08-af4a-a2cd35bb3ce0",
        "colab": {
          "base_uri": "https://localhost:8080/",
          "height": 34
        }
      },
      "source": [
        "print(y_test[-1])"
      ],
      "execution_count": 0,
      "outputs": [
        {
          "output_type": "stream",
          "text": [
            "nan\n"
          ],
          "name": "stdout"
        }
      ]
    },
    {
      "cell_type": "code",
      "metadata": {
        "colab_type": "code",
        "id": "5wv2EMyglyq7",
        "colab": {}
      },
      "source": [
        "col1 = pd.DataFrame(y_test, columns=['True'])\n",
        "\n",
        "col2 = pd.DataFrame(y_pred_test_LSTM, columns=['LSTM_prediction'])\n",
        "\n",
        "results = pd.concat([col1, col2], axis=1)\n",
        "results.to_csv('PredictionResults.csv')"
      ],
      "execution_count": 0,
      "outputs": []
    },
    {
      "cell_type": "code",
      "metadata": {
        "colab_type": "code",
        "id": "7k9Wecwwmfgg",
        "colab": {}
      },
      "source": [
        "from google.colab import files\n",
        "files.download('PredictionResults.csv') "
      ],
      "execution_count": 0,
      "outputs": []
    },
    {
      "cell_type": "code",
      "metadata": {
        "id": "Y0IA3VSRaDFK",
        "colab_type": "code",
        "outputId": "e0338c71-a555-4549-b9b0-7c29ed0f04b3",
        "colab": {
          "base_uri": "https://localhost:8080/",
          "height": 34
        }
      },
      "source": [
        "import joblib\n",
        "\n",
        "joblib.dump(model_lstm, \"microsoft.pkl\")"
      ],
      "execution_count": 92,
      "outputs": [
        {
          "output_type": "execute_result",
          "data": {
            "text/plain": [
              "['microsoft.pkl']"
            ]
          },
          "metadata": {
            "tags": []
          },
          "execution_count": 92
        }
      ]
    },
    {
      "cell_type": "code",
      "metadata": {
        "id": "Wjfl8bYkStpS",
        "colab_type": "code",
        "colab": {}
      },
      "source": [
        "from google.colab import files\n",
        "files.download('microsoft.pkl') "
      ],
      "execution_count": 0,
      "outputs": []
    },
    {
      "cell_type": "code",
      "metadata": {
        "id": "4hU3eP17aKQn",
        "colab_type": "code",
        "colab": {}
      },
      "source": [
        "df_final = pd.read_csv(\"AAPL.csv\",na_values=['null'],index_col='Date',parse_dates=True,infer_datetime_format=True)\n",
        "X=df_final.drop(['Open'],axis=1)\n",
        "X=X.drop(['Adj Close'],axis=1)\n",
        "test = df_final\n",
        "target_open = pd.DataFrame(test['Open'])\n",
        "feature_columns = ['High', 'Low', 'Close']\n"
      ],
      "execution_count": 0,
      "outputs": []
    },
    {
      "cell_type": "code",
      "metadata": {
        "id": "6wrQKgu8aaB4",
        "colab_type": "code",
        "colab": {}
      },
      "source": [
        "from sklearn.preprocessing import MinMaxScaler\n",
        "scaler = MinMaxScaler()\n",
        "feature_minmax_transform_data = scaler.fit_transform(test[feature_columns])\n",
        "feature_minmax_transform = pd.DataFrame(columns=feature_columns, data=feature_minmax_transform_data, index=test.index)\n"
      ],
      "execution_count": 0,
      "outputs": []
    },
    {
      "cell_type": "code",
      "metadata": {
        "id": "1eeqtvvJaaOj",
        "colab_type": "code",
        "outputId": "34398684-6506-4396-c17d-903dfa534f58",
        "colab": {
          "base_uri": "https://localhost:8080/",
          "height": 51
        }
      },
      "source": [
        "print('Shape of features : ', feature_minmax_transform.shape)\n",
        "print('Shape of target : ', target_open.shape)\n",
        "\n",
        "\n",
        "target_open = target_open.shift(-1)\n",
        "target_open = target_open[:-90]\n",
        "\n",
        "feature_minmax_transform = feature_minmax_transform[:-90]"
      ],
      "execution_count": 0,
      "outputs": [
        {
          "output_type": "stream",
          "text": [
            "Shape of features :  (9813, 3)\n",
            "Shape of target :  (9813, 1)\n"
          ],
          "name": "stdout"
        }
      ]
    },
    {
      "cell_type": "code",
      "metadata": {
        "id": "gr8LP7Kxadjk",
        "colab_type": "code",
        "colab": {}
      },
      "source": [
        "model = joblib.load(\"apple.pkl\")"
      ],
      "execution_count": 0,
      "outputs": []
    },
    {
      "cell_type": "code",
      "metadata": {
        "id": "XSel4AJdaft7",
        "colab_type": "code",
        "outputId": "be607e7c-549f-44a0-a6e6-af683165d2f0",
        "colab": {
          "base_uri": "https://localhost:8080/",
          "height": 51
        }
      },
      "source": [
        "test = np.array(feature_minmax_transform[-1:])\n",
        "test = test.reshape(1,1,3)\n",
        "print(test)\n",
        "\n",
        "print(model.predict(test))"
      ],
      "execution_count": 0,
      "outputs": [
        {
          "output_type": "stream",
          "text": [
            "[[[0.73255942 0.71695678 0.71383016]]]\n",
            "[[181.11618]]\n"
          ],
          "name": "stdout"
        }
      ]
    }
  ]
}